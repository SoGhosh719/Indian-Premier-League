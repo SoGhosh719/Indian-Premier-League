{
  "cells": [
    {
      "cell_type": "markdown",
      "metadata": {
        "id": "nUWS_vQ7curA"
      },
      "source": [
        "# Task 1: Read CSV Files"
      ]
    },
    {
      "cell_type": "code",
      "execution_count": null,
      "metadata": {
        "id": "4ywPuGe0curI"
      },
      "outputs": [],
      "source": [
        "import numpy as np\n",
        "import pandas as pd\n",
        "import matplotlib.pyplot as plt"
      ]
    },
    {
      "cell_type": "code",
      "execution_count": null,
      "metadata": {
        "id": "YPKuaxcicurK",
        "outputId": "dd243b2a-f49e-4afd-f7ad-5a1fe788bb43"
      },
      "outputs": [
        {
          "data": {
            "text/html": [
              "<div>\n",
              "<style scoped>\n",
              "    .dataframe tbody tr th:only-of-type {\n",
              "        vertical-align: middle;\n",
              "    }\n",
              "\n",
              "    .dataframe tbody tr th {\n",
              "        vertical-align: top;\n",
              "    }\n",
              "\n",
              "    .dataframe thead th {\n",
              "        text-align: right;\n",
              "    }\n",
              "</style>\n",
              "<table border=\"1\" class=\"dataframe\">\n",
              "  <thead>\n",
              "    <tr style=\"text-align: right;\">\n",
              "      <th></th>\n",
              "      <th>id</th>\n",
              "      <th>season</th>\n",
              "      <th>city</th>\n",
              "      <th>date</th>\n",
              "      <th>team1</th>\n",
              "      <th>team2</th>\n",
              "      <th>toss_winner</th>\n",
              "      <th>toss_decision</th>\n",
              "      <th>result</th>\n",
              "      <th>dl_applied</th>\n",
              "      <th>winner</th>\n",
              "      <th>win_by_runs</th>\n",
              "      <th>win_by_wickets</th>\n",
              "      <th>player_of_match</th>\n",
              "      <th>venue</th>\n",
              "      <th>umpire1</th>\n",
              "      <th>umpire2</th>\n",
              "      <th>umpire3</th>\n",
              "    </tr>\n",
              "  </thead>\n",
              "  <tbody>\n",
              "    <tr>\n",
              "      <th>0</th>\n",
              "      <td>1</td>\n",
              "      <td>2017</td>\n",
              "      <td>Hyderabad</td>\n",
              "      <td>2017-04-05</td>\n",
              "      <td>Sunrisers Hyderabad</td>\n",
              "      <td>Royal Challengers Bangalore</td>\n",
              "      <td>Royal Challengers Bangalore</td>\n",
              "      <td>field</td>\n",
              "      <td>normal</td>\n",
              "      <td>0</td>\n",
              "      <td>Sunrisers Hyderabad</td>\n",
              "      <td>35</td>\n",
              "      <td>0</td>\n",
              "      <td>Yuvraj Singh</td>\n",
              "      <td>Rajiv Gandhi International Stadium, Uppal</td>\n",
              "      <td>AY Dandekar</td>\n",
              "      <td>NJ Llong</td>\n",
              "      <td>NaN</td>\n",
              "    </tr>\n",
              "    <tr>\n",
              "      <th>1</th>\n",
              "      <td>2</td>\n",
              "      <td>2017</td>\n",
              "      <td>Pune</td>\n",
              "      <td>2017-04-06</td>\n",
              "      <td>Mumbai Indians</td>\n",
              "      <td>Rising Pune Supergiant</td>\n",
              "      <td>Rising Pune Supergiant</td>\n",
              "      <td>field</td>\n",
              "      <td>normal</td>\n",
              "      <td>0</td>\n",
              "      <td>Rising Pune Supergiant</td>\n",
              "      <td>0</td>\n",
              "      <td>7</td>\n",
              "      <td>SPD Smith</td>\n",
              "      <td>Maharashtra Cricket Association Stadium</td>\n",
              "      <td>A Nand Kishore</td>\n",
              "      <td>S Ravi</td>\n",
              "      <td>NaN</td>\n",
              "    </tr>\n",
              "  </tbody>\n",
              "</table>\n",
              "</div>"
            ],
            "text/plain": [
              "   id  season       city        date                team1  \\\n",
              "0   1    2017  Hyderabad  2017-04-05  Sunrisers Hyderabad   \n",
              "1   2    2017       Pune  2017-04-06       Mumbai Indians   \n",
              "\n",
              "                         team2                  toss_winner toss_decision  \\\n",
              "0  Royal Challengers Bangalore  Royal Challengers Bangalore         field   \n",
              "1       Rising Pune Supergiant       Rising Pune Supergiant         field   \n",
              "\n",
              "   result  dl_applied                  winner  win_by_runs  win_by_wickets  \\\n",
              "0  normal           0     Sunrisers Hyderabad           35               0   \n",
              "1  normal           0  Rising Pune Supergiant            0               7   \n",
              "\n",
              "  player_of_match                                      venue         umpire1  \\\n",
              "0    Yuvraj Singh  Rajiv Gandhi International Stadium, Uppal     AY Dandekar   \n",
              "1       SPD Smith    Maharashtra Cricket Association Stadium  A Nand Kishore   \n",
              "\n",
              "    umpire2  umpire3  \n",
              "0  NJ Llong      NaN  \n",
              "1    S Ravi      NaN  "
            ]
          },
          "execution_count": 2,
          "metadata": {},
          "output_type": "execute_result"
        }
      ],
      "source": [
        "df_deliveries = pd.read_csv('deliveries.csv')\n",
        "df_matches = pd.read_csv('matches.csv')\n",
        "\n",
        "df_matches.head(2)"
      ]
    },
    {
      "cell_type": "markdown",
      "metadata": {
        "id": "VJF1yDEJcurL"
      },
      "source": [
        "# Task 2: Get top-level summary"
      ]
    },
    {
      "cell_type": "code",
      "execution_count": null,
      "metadata": {
        "id": "h98GuRDYcurL",
        "outputId": "1b05c5fc-5705-4c69-a091-7e1a7f392eda"
      },
      "outputs": [
        {
          "data": {
            "text/html": [
              "<div>\n",
              "<style scoped>\n",
              "    .dataframe tbody tr th:only-of-type {\n",
              "        vertical-align: middle;\n",
              "    }\n",
              "\n",
              "    .dataframe tbody tr th {\n",
              "        vertical-align: top;\n",
              "    }\n",
              "\n",
              "    .dataframe thead th {\n",
              "        text-align: right;\n",
              "    }\n",
              "</style>\n",
              "<table border=\"1\" class=\"dataframe\">\n",
              "  <thead>\n",
              "    <tr style=\"text-align: right;\">\n",
              "      <th></th>\n",
              "      <th>id</th>\n",
              "      <th>season</th>\n",
              "      <th>dl_applied</th>\n",
              "      <th>win_by_runs</th>\n",
              "      <th>win_by_wickets</th>\n",
              "      <th>umpire3</th>\n",
              "    </tr>\n",
              "  </thead>\n",
              "  <tbody>\n",
              "    <tr>\n",
              "      <th>count</th>\n",
              "      <td>636.000000</td>\n",
              "      <td>636.000000</td>\n",
              "      <td>636.000000</td>\n",
              "      <td>636.000000</td>\n",
              "      <td>636.000000</td>\n",
              "      <td>0.0</td>\n",
              "    </tr>\n",
              "    <tr>\n",
              "      <th>mean</th>\n",
              "      <td>318.500000</td>\n",
              "      <td>2012.490566</td>\n",
              "      <td>0.025157</td>\n",
              "      <td>13.682390</td>\n",
              "      <td>3.372642</td>\n",
              "      <td>NaN</td>\n",
              "    </tr>\n",
              "    <tr>\n",
              "      <th>std</th>\n",
              "      <td>183.741666</td>\n",
              "      <td>2.773026</td>\n",
              "      <td>0.156726</td>\n",
              "      <td>23.908877</td>\n",
              "      <td>3.420338</td>\n",
              "      <td>NaN</td>\n",
              "    </tr>\n",
              "    <tr>\n",
              "      <th>min</th>\n",
              "      <td>1.000000</td>\n",
              "      <td>2008.000000</td>\n",
              "      <td>0.000000</td>\n",
              "      <td>0.000000</td>\n",
              "      <td>0.000000</td>\n",
              "      <td>NaN</td>\n",
              "    </tr>\n",
              "    <tr>\n",
              "      <th>25%</th>\n",
              "      <td>159.750000</td>\n",
              "      <td>2010.000000</td>\n",
              "      <td>0.000000</td>\n",
              "      <td>0.000000</td>\n",
              "      <td>0.000000</td>\n",
              "      <td>NaN</td>\n",
              "    </tr>\n",
              "    <tr>\n",
              "      <th>50%</th>\n",
              "      <td>318.500000</td>\n",
              "      <td>2012.000000</td>\n",
              "      <td>0.000000</td>\n",
              "      <td>0.000000</td>\n",
              "      <td>4.000000</td>\n",
              "      <td>NaN</td>\n",
              "    </tr>\n",
              "    <tr>\n",
              "      <th>75%</th>\n",
              "      <td>477.250000</td>\n",
              "      <td>2015.000000</td>\n",
              "      <td>0.000000</td>\n",
              "      <td>20.000000</td>\n",
              "      <td>7.000000</td>\n",
              "      <td>NaN</td>\n",
              "    </tr>\n",
              "    <tr>\n",
              "      <th>max</th>\n",
              "      <td>636.000000</td>\n",
              "      <td>2017.000000</td>\n",
              "      <td>1.000000</td>\n",
              "      <td>146.000000</td>\n",
              "      <td>10.000000</td>\n",
              "      <td>NaN</td>\n",
              "    </tr>\n",
              "  </tbody>\n",
              "</table>\n",
              "</div>"
            ],
            "text/plain": [
              "               id       season  dl_applied  win_by_runs  win_by_wickets  \\\n",
              "count  636.000000   636.000000  636.000000   636.000000      636.000000   \n",
              "mean   318.500000  2012.490566    0.025157    13.682390        3.372642   \n",
              "std    183.741666     2.773026    0.156726    23.908877        3.420338   \n",
              "min      1.000000  2008.000000    0.000000     0.000000        0.000000   \n",
              "25%    159.750000  2010.000000    0.000000     0.000000        0.000000   \n",
              "50%    318.500000  2012.000000    0.000000     0.000000        4.000000   \n",
              "75%    477.250000  2015.000000    0.000000    20.000000        7.000000   \n",
              "max    636.000000  2017.000000    1.000000   146.000000       10.000000   \n",
              "\n",
              "       umpire3  \n",
              "count      0.0  \n",
              "mean       NaN  \n",
              "std        NaN  \n",
              "min        NaN  \n",
              "25%        NaN  \n",
              "50%        NaN  \n",
              "75%        NaN  \n",
              "max        NaN  "
            ]
          },
          "execution_count": 3,
          "metadata": {},
          "output_type": "execute_result"
        }
      ],
      "source": [
        "df_matches.describe()"
      ]
    },
    {
      "cell_type": "code",
      "execution_count": null,
      "metadata": {
        "id": "E4T8Y0hccurM",
        "outputId": "72ec6a17-00f4-4637-9cf5-60bc94380a22"
      },
      "outputs": [
        {
          "name": "stdout",
          "output_type": "stream",
          "text": [
            "<class 'pandas.core.frame.DataFrame'>\n",
            "RangeIndex: 636 entries, 0 to 635\n",
            "Data columns (total 18 columns):\n",
            "id                 636 non-null int64\n",
            "season             636 non-null int64\n",
            "city               629 non-null object\n",
            "date               636 non-null object\n",
            "team1              636 non-null object\n",
            "team2              636 non-null object\n",
            "toss_winner        636 non-null object\n",
            "toss_decision      636 non-null object\n",
            "result             636 non-null object\n",
            "dl_applied         636 non-null int64\n",
            "winner             633 non-null object\n",
            "win_by_runs        636 non-null int64\n",
            "win_by_wickets     636 non-null int64\n",
            "player_of_match    633 non-null object\n",
            "venue              636 non-null object\n",
            "umpire1            635 non-null object\n",
            "umpire2            635 non-null object\n",
            "umpire3            0 non-null float64\n",
            "dtypes: float64(1), int64(5), object(12)\n",
            "memory usage: 89.5+ KB\n"
          ]
        }
      ],
      "source": [
        "df_matches.info()"
      ]
    },
    {
      "cell_type": "markdown",
      "metadata": {
        "id": "Qui1OitAcurN"
      },
      "source": [
        "# Task 3: Check if column 'umpire3' is useful. If not drop it and save the dataframe to a file."
      ]
    },
    {
      "cell_type": "markdown",
      "metadata": {
        "id": "JAN9SdlXcurO"
      },
      "source": [
        "## Rough work"
      ]
    },
    {
      "cell_type": "code",
      "execution_count": null,
      "metadata": {
        "id": "EQuE26ePcurO",
        "outputId": "5117926c-6b33-4881-bbd3-8a6d8e389550"
      },
      "outputs": [
        {
          "data": {
            "text/plain": [
              "A    3\n",
              "B    1\n",
              "dtype: int64"
            ]
          },
          "execution_count": 5,
          "metadata": {},
          "output_type": "execute_result"
        }
      ],
      "source": [
        "df = pd.DataFrame({'A': [1, 2, 3], 'B': [1, 1, 1]})\n",
        "df.nunique()"
      ]
    },
    {
      "cell_type": "code",
      "execution_count": null,
      "metadata": {
        "id": "HbzrqyCJcurP",
        "outputId": "1725f8f3-0eaf-4791-e26b-5566cebd424b"
      },
      "outputs": [
        {
          "data": {
            "text/plain": [
              "array([1, 2, 3], dtype=int64)"
            ]
          },
          "execution_count": 6,
          "metadata": {},
          "output_type": "execute_result"
        }
      ],
      "source": [
        "df['A'].unique()"
      ]
    },
    {
      "cell_type": "code",
      "execution_count": null,
      "metadata": {
        "id": "QAeH4IbFcurP",
        "outputId": "8403ec5d-233c-4607-912d-075a2b78b7b0"
      },
      "outputs": [
        {
          "name": "stdout",
          "output_type": "stream",
          "text": [
            "[nan]\n"
          ]
        }
      ],
      "source": [
        "print(df_matches['umpire3'].unique())"
      ]
    },
    {
      "cell_type": "code",
      "execution_count": null,
      "metadata": {
        "id": "GULkfChbcurQ",
        "outputId": "80401790-c772-4481-cf1f-9989d47e75bb"
      },
      "outputs": [
        {
          "name": "stdout",
          "output_type": "stream",
          "text": [
            "1\n"
          ]
        }
      ],
      "source": [
        "print(df_matches['umpire3'].nunique(dropna=False))"
      ]
    },
    {
      "cell_type": "code",
      "execution_count": null,
      "metadata": {
        "id": "iCz_9LiDcurQ"
      },
      "outputs": [],
      "source": [
        "df2 = df_matches.drop(['umpire3'],axis=1)\n",
        "df2.to_csv(\"IPLMDI.csv\",index=False)"
      ]
    },
    {
      "cell_type": "markdown",
      "metadata": {
        "id": "gTuV99AbcurR"
      },
      "source": [
        "# Task 4: Print Total Number of Mataches played, Number of Seasons"
      ]
    },
    {
      "cell_type": "code",
      "execution_count": null,
      "metadata": {
        "id": "Ev9YFFRBcurR",
        "outputId": "7d5dcee4-ef5c-4126-b35f-148d5a645b19"
      },
      "outputs": [
        {
          "name": "stdout",
          "output_type": "stream",
          "text": [
            "Number of matches played so far :  (636, 18)\n"
          ]
        }
      ],
      "source": [
        "print(\"Number of matches played so far : \", df_matches.shape)"
      ]
    },
    {
      "cell_type": "code",
      "execution_count": null,
      "metadata": {
        "id": "wAyhdiDUcurR",
        "outputId": "d9cc0d54-9df9-4a69-8a56-04224ea28b86"
      },
      "outputs": [
        {
          "name": "stdout",
          "output_type": "stream",
          "text": [
            "Number of matches played so far :  636\n"
          ]
        }
      ],
      "source": [
        "print(\"Number of matches played so far : \", df_matches.shape[0])"
      ]
    },
    {
      "cell_type": "code",
      "execution_count": null,
      "metadata": {
        "id": "jhFeOwzlcurR",
        "outputId": "bd4d6946-4f6a-4777-c460-714d16d17a52"
      },
      "outputs": [
        {
          "name": "stdout",
          "output_type": "stream",
          "text": [
            "Number of seasons :  10\n"
          ]
        }
      ],
      "source": [
        "print(\"Number of seasons : \", df_matches['season'].nunique())"
      ]
    },
    {
      "cell_type": "markdown",
      "metadata": {
        "id": "o7yipEtQcurS"
      },
      "source": [
        "# Task 5: Players who have won the most \"Player of the Match\"\n",
        "## And Team which has the highest number of match wins"
      ]
    },
    {
      "cell_type": "code",
      "execution_count": null,
      "metadata": {
        "id": "tkYRA6nvcurT",
        "outputId": "b0c17e82-0ddf-4cf0-89eb-35f506e3a7d2"
      },
      "outputs": [
        {
          "name": "stdout",
          "output_type": "stream",
          "text": [
            "Most Player of the Match:  CH Gayle             18\n",
            "YK Pathan            16\n",
            "AB de Villiers       15\n",
            "DA Warner            15\n",
            "RG Sharma            14\n",
            "SK Raina             14\n",
            "MS Dhoni             13\n",
            "G Gambhir            13\n",
            "AM Rahane            12\n",
            "MEK Hussey           12\n",
            "V Kohli              11\n",
            "DR Smith             11\n",
            "V Sehwag             11\n",
            "SR Watson            10\n",
            "JH Kallis            10\n",
            "SE Marsh              9\n",
            "A Mishra              9\n",
            "KA Pollard            9\n",
            "SR Tendulkar          8\n",
            "AT Rayudu             7\n",
            "AC Gilchrist          7\n",
            "RA Jadeja             7\n",
            "RV Uthappa            7\n",
            "UT Yadav              6\n",
            "Harbhajan Singh       6\n",
            "BJ Hodge              6\n",
            "AD Russell            6\n",
            "M Vijay               6\n",
            "SP Narine             6\n",
            "A Nehra               6\n",
            "                     ..\n",
            "S Nadeem              1\n",
            "SM Katich             1\n",
            "SP Goswami            1\n",
            "S Sohal               1\n",
            "Mohammed Shami        1\n",
            "RE Levi               1\n",
            "BA Bhatt              1\n",
            "J Theron              1\n",
            "MF Maharoof           1\n",
            "CR Brathwaite         1\n",
            "RA Tripathi           1\n",
            "S Badrinath           1\n",
            "Mustafizur Rahman     1\n",
            "TM Dilshan            1\n",
            "P Parameswaran        1\n",
            "J Botha               1\n",
            "JC Buttler            1\n",
            "KS Williamson         1\n",
            "TL Suman              1\n",
            "Washington Sundar     1\n",
            "Mohammed Siraj        1\n",
            "A Zampa               1\n",
            "SB Jakati             1\n",
            "PP Ojha               1\n",
            "HV Patel              1\n",
            "YS Chahal             1\n",
            "NV Ojha               1\n",
            "MR Marsh              1\n",
            "A Singh               1\n",
            "MJ Lumb               1\n",
            "Name: player_of_match, Length: 201, dtype: int64\n"
          ]
        }
      ],
      "source": [
        "print(\"Most Player of the Match: \",df_matches['player_of_match'].value_counts())"
      ]
    },
    {
      "cell_type": "code",
      "execution_count": null,
      "metadata": {
        "id": "SjnaWaYVcurT",
        "outputId": "6bc00ecd-ccba-41da-bc62-02c233ff8df7"
      },
      "outputs": [
        {
          "name": "stdout",
          "output_type": "stream",
          "text": [
            "Most Player of the Match:  CH Gayle          18\n",
            "YK Pathan         16\n",
            "AB de Villiers    15\n",
            "DA Warner         15\n",
            "RG Sharma         14\n",
            "Name: player_of_match, dtype: int64\n"
          ]
        }
      ],
      "source": [
        "print(\"Most Player of the Match: \",df_matches['player_of_match'].value_counts()[:5])"
      ]
    },
    {
      "cell_type": "code",
      "execution_count": null,
      "metadata": {
        "id": "2sPADW7CcurT",
        "outputId": "751e8cab-73ca-426c-9f79-4b9c5591dd54"
      },
      "outputs": [
        {
          "name": "stdout",
          "output_type": "stream",
          "text": [
            "CH Gayle  : has most man of the match awards\n"
          ]
        }
      ],
      "source": [
        "print((df_matches['player_of_match'].value_counts()).idxmax(),' : has most man of the match awards')"
      ]
    },
    {
      "cell_type": "code",
      "execution_count": null,
      "metadata": {
        "id": "uLmrC7IVcurT",
        "outputId": "222d446d-f070-4832-bcf0-d335fa6c2619"
      },
      "outputs": [
        {
          "name": "stdout",
          "output_type": "stream",
          "text": [
            "Mumbai Indians : has the highest number of match wins\n"
          ]
        }
      ],
      "source": [
        "print(((df_matches['winner']).value_counts()).idxmax(),': has the highest number of match wins')"
      ]
    },
    {
      "cell_type": "code",
      "execution_count": null,
      "metadata": {
        "id": "dPHoS19WcurU",
        "outputId": "dc16ec14-0a1d-41db-bc2c-5d0e33953d3c"
      },
      "outputs": [
        {
          "name": "stdout",
          "output_type": "stream",
          "text": [
            "Mumbai Indians\n"
          ]
        }
      ],
      "source": [
        "print(((df_matches['winner']).value_counts()).idxmax())"
      ]
    },
    {
      "cell_type": "markdown",
      "metadata": {
        "id": "NhkpgS9-curU"
      },
      "source": [
        "# Task 6: Find Teams which have won matches by a huge margin"
      ]
    },
    {
      "cell_type": "code",
      "execution_count": null,
      "metadata": {
        "id": "2k47hp09curU",
        "outputId": "f95ee0b5-806b-434f-8b85-b26eebb4a3b8"
      },
      "outputs": [
        {
          "data": {
            "text/plain": [
              "Royal Challengers Bangalore    17\n",
              "Kolkata Knight Riders          16\n",
              "Delhi Daredevils               13\n",
              "Mumbai Indians                 12\n",
              "Rajasthan Royals               12\n",
              "Chennai Super Kings             9\n",
              "Kings XI Punjab                 7\n",
              "Sunrisers Hyderabad             5\n",
              "Deccan Chargers                 2\n",
              "Kochi Tuskers Kerala            2\n",
              "Rising Pune Supergiant          1\n",
              "Rising Pune Supergiants         1\n",
              "Name: winner, dtype: int64"
            ]
          },
          "execution_count": 18,
          "metadata": {},
          "output_type": "execute_result"
        }
      ],
      "source": [
        "big_margin=df_matches[(df_matches['win_by_runs']>=100) | (df_matches['win_by_wickets']>=8)]\n",
        "big_margin.winner.value_counts()"
      ]
    },
    {
      "cell_type": "markdown",
      "metadata": {
        "id": "H6W_kn33curU"
      },
      "source": [
        "# Task 7: Find Count of Matches Played at each city"
      ]
    },
    {
      "cell_type": "code",
      "execution_count": null,
      "metadata": {
        "id": "MQeAPoxXcurU",
        "outputId": "ce89923e-0e3c-4a18-9bcb-f51a0761602c"
      },
      "outputs": [
        {
          "data": {
            "text/plain": [
              "city           winner                     \n",
              "Abu Dhabi      Chennai Super Kings             1\n",
              "               Kings XI Punjab                 2\n",
              "               Kolkata Knight Riders           1\n",
              "               Rajasthan Royals                3\n",
              "Ahmedabad      Delhi Daredevils                1\n",
              "               Kings XI Punjab                 1\n",
              "               Mumbai Indians                  1\n",
              "               Rajasthan Royals                7\n",
              "               Royal Challengers Bangalore     1\n",
              "               Sunrisers Hyderabad             1\n",
              "Bangalore      Chennai Super Kings             4\n",
              "               Deccan Chargers                 1\n",
              "               Delhi Daredevils                3\n",
              "               Gujarat Lions                   1\n",
              "               Kings XI Punjab                 5\n",
              "               Kolkata Knight Riders           6\n",
              "               Mumbai Indians                  8\n",
              "               Rajasthan Royals                3\n",
              "               Rising Pune Supergiant          1\n",
              "               Royal Challengers Bangalore    30\n",
              "               Sunrisers Hyderabad             2\n",
              "Bloemfontein   Delhi Daredevils                1\n",
              "               Kings XI Punjab                 1\n",
              "Cape Town      Deccan Chargers                 2\n",
              "               Delhi Daredevils                1\n",
              "               Kings XI Punjab                 1\n",
              "               Mumbai Indians                  1\n",
              "               Rajasthan Royals                1\n",
              "               Royal Challengers Bangalore     1\n",
              "Centurion      Chennai Super Kings             2\n",
              "                                              ..\n",
              "Pune           Rising Pune Supergiant          5\n",
              "               Royal Challengers Bangalore     4\n",
              "               Sunrisers Hyderabad             1\n",
              "Raipur         Delhi Daredevils                4\n",
              "               Royal Challengers Bangalore     1\n",
              "               Sunrisers Hyderabad             1\n",
              "Rajkot         Delhi Daredevils                1\n",
              "               Gujarat Lions                   3\n",
              "               Kings XI Punjab                 2\n",
              "               Kolkata Knight Riders           1\n",
              "               Mumbai Indians                  1\n",
              "               Royal Challengers Bangalore     1\n",
              "               Sunrisers Hyderabad             1\n",
              "Ranchi         Chennai Super Kings             3\n",
              "               Kolkata Knight Riders           1\n",
              "               Pune Warriors                   1\n",
              "               Royal Challengers Bangalore     1\n",
              "               Sunrisers Hyderabad             1\n",
              "Sharjah        Chennai Super Kings             1\n",
              "               Delhi Daredevils                1\n",
              "               Kings XI Punjab                 2\n",
              "               Kolkata Knight Riders           1\n",
              "               Royal Challengers Bangalore     1\n",
              "Visakhapatnam  Chennai Super Kings             1\n",
              "               Delhi Daredevils                1\n",
              "               Kings XI Punjab                 1\n",
              "               Mumbai Indians                  2\n",
              "               Rajasthan Royals                1\n",
              "               Rising Pune Supergiants         2\n",
              "               Sunrisers Hyderabad             3\n",
              "Length: 191, dtype: int64"
            ]
          },
          "execution_count": 19,
          "metadata": {},
          "output_type": "execute_result"
        }
      ],
      "source": [
        "df_matches.groupby(['city'])\n",
        "df_matches.groupby(['city','winner']).size()"
      ]
    },
    {
      "cell_type": "code",
      "execution_count": null,
      "metadata": {
        "id": "ejr8r8C9curU",
        "outputId": "1e04dd22-ca38-48ff-9151-56ad548c61ab"
      },
      "outputs": [
        {
          "data": {
            "text/html": [
              "<div>\n",
              "<style scoped>\n",
              "    .dataframe tbody tr th:only-of-type {\n",
              "        vertical-align: middle;\n",
              "    }\n",
              "\n",
              "    .dataframe tbody tr th {\n",
              "        vertical-align: top;\n",
              "    }\n",
              "\n",
              "    .dataframe thead th {\n",
              "        text-align: right;\n",
              "    }\n",
              "</style>\n",
              "<table border=\"1\" class=\"dataframe\">\n",
              "  <thead>\n",
              "    <tr style=\"text-align: right;\">\n",
              "      <th></th>\n",
              "      <th>id</th>\n",
              "      <th>season</th>\n",
              "      <th>city</th>\n",
              "      <th>date</th>\n",
              "      <th>team1</th>\n",
              "      <th>team2</th>\n",
              "      <th>toss_winner</th>\n",
              "      <th>toss_decision</th>\n",
              "      <th>result</th>\n",
              "      <th>dl_applied</th>\n",
              "      <th>winner</th>\n",
              "      <th>win_by_runs</th>\n",
              "      <th>win_by_wickets</th>\n",
              "      <th>player_of_match</th>\n",
              "      <th>venue</th>\n",
              "      <th>umpire1</th>\n",
              "      <th>umpire2</th>\n",
              "      <th>umpire3</th>\n",
              "    </tr>\n",
              "  </thead>\n",
              "  <tbody>\n",
              "    <tr>\n",
              "      <th>457</th>\n",
              "      <td>458</td>\n",
              "      <td>2014</td>\n",
              "      <td>Abu Dhabi</td>\n",
              "      <td>2014-04-16</td>\n",
              "      <td>Kolkata Knight Riders</td>\n",
              "      <td>Mumbai Indians</td>\n",
              "      <td>Kolkata Knight Riders</td>\n",
              "      <td>bat</td>\n",
              "      <td>normal</td>\n",
              "      <td>0</td>\n",
              "      <td>Kolkata Knight Riders</td>\n",
              "      <td>41</td>\n",
              "      <td>0</td>\n",
              "      <td>JH Kallis</td>\n",
              "      <td>Sheikh Zayed Stadium</td>\n",
              "      <td>M Erasmus</td>\n",
              "      <td>RK Illingworth</td>\n",
              "      <td>NaN</td>\n",
              "    </tr>\n",
              "    <tr>\n",
              "      <th>459</th>\n",
              "      <td>460</td>\n",
              "      <td>2014</td>\n",
              "      <td>Abu Dhabi</td>\n",
              "      <td>2014-04-18</td>\n",
              "      <td>Chennai Super Kings</td>\n",
              "      <td>Kings XI Punjab</td>\n",
              "      <td>Chennai Super Kings</td>\n",
              "      <td>bat</td>\n",
              "      <td>normal</td>\n",
              "      <td>0</td>\n",
              "      <td>Kings XI Punjab</td>\n",
              "      <td>0</td>\n",
              "      <td>6</td>\n",
              "      <td>GJ Maxwell</td>\n",
              "      <td>Sheikh Zayed Stadium</td>\n",
              "      <td>RK Illingworth</td>\n",
              "      <td>C Shamshuddin</td>\n",
              "      <td>NaN</td>\n",
              "    </tr>\n",
              "    <tr>\n",
              "      <th>460</th>\n",
              "      <td>461</td>\n",
              "      <td>2014</td>\n",
              "      <td>Abu Dhabi</td>\n",
              "      <td>2014-04-18</td>\n",
              "      <td>Sunrisers Hyderabad</td>\n",
              "      <td>Rajasthan Royals</td>\n",
              "      <td>Rajasthan Royals</td>\n",
              "      <td>field</td>\n",
              "      <td>normal</td>\n",
              "      <td>0</td>\n",
              "      <td>Rajasthan Royals</td>\n",
              "      <td>0</td>\n",
              "      <td>4</td>\n",
              "      <td>AM Rahane</td>\n",
              "      <td>Sheikh Zayed Stadium</td>\n",
              "      <td>BF Bowden</td>\n",
              "      <td>RK Illingworth</td>\n",
              "      <td>NaN</td>\n",
              "    </tr>\n",
              "    <tr>\n",
              "      <th>464</th>\n",
              "      <td>465</td>\n",
              "      <td>2014</td>\n",
              "      <td>Abu Dhabi</td>\n",
              "      <td>2014-04-21</td>\n",
              "      <td>Chennai Super Kings</td>\n",
              "      <td>Delhi Daredevils</td>\n",
              "      <td>Chennai Super Kings</td>\n",
              "      <td>bat</td>\n",
              "      <td>normal</td>\n",
              "      <td>0</td>\n",
              "      <td>Chennai Super Kings</td>\n",
              "      <td>93</td>\n",
              "      <td>0</td>\n",
              "      <td>SK Raina</td>\n",
              "      <td>Sheikh Zayed Stadium</td>\n",
              "      <td>RK Illingworth</td>\n",
              "      <td>C Shamshuddin</td>\n",
              "      <td>NaN</td>\n",
              "    </tr>\n",
              "    <tr>\n",
              "      <th>470</th>\n",
              "      <td>471</td>\n",
              "      <td>2014</td>\n",
              "      <td>Abu Dhabi</td>\n",
              "      <td>2014-04-26</td>\n",
              "      <td>Royal Challengers Bangalore</td>\n",
              "      <td>Rajasthan Royals</td>\n",
              "      <td>Rajasthan Royals</td>\n",
              "      <td>field</td>\n",
              "      <td>normal</td>\n",
              "      <td>0</td>\n",
              "      <td>Rajasthan Royals</td>\n",
              "      <td>0</td>\n",
              "      <td>6</td>\n",
              "      <td>PV Tambe</td>\n",
              "      <td>Sheikh Zayed Stadium</td>\n",
              "      <td>HDPK Dharmasena</td>\n",
              "      <td>C Shamshuddin</td>\n",
              "      <td>NaN</td>\n",
              "    </tr>\n",
              "    <tr>\n",
              "      <th>471</th>\n",
              "      <td>472</td>\n",
              "      <td>2014</td>\n",
              "      <td>Abu Dhabi</td>\n",
              "      <td>2014-04-26</td>\n",
              "      <td>Kings XI Punjab</td>\n",
              "      <td>Kolkata Knight Riders</td>\n",
              "      <td>Kolkata Knight Riders</td>\n",
              "      <td>field</td>\n",
              "      <td>normal</td>\n",
              "      <td>0</td>\n",
              "      <td>Kings XI Punjab</td>\n",
              "      <td>23</td>\n",
              "      <td>0</td>\n",
              "      <td>Sandeep Sharma</td>\n",
              "      <td>Sheikh Zayed Stadium</td>\n",
              "      <td>HDPK Dharmasena</td>\n",
              "      <td>RK Illingworth</td>\n",
              "      <td>NaN</td>\n",
              "    </tr>\n",
              "    <tr>\n",
              "      <th>475</th>\n",
              "      <td>476</td>\n",
              "      <td>2014</td>\n",
              "      <td>Abu Dhabi</td>\n",
              "      <td>2014-04-29</td>\n",
              "      <td>Rajasthan Royals</td>\n",
              "      <td>Kolkata Knight Riders</td>\n",
              "      <td>Rajasthan Royals</td>\n",
              "      <td>bat</td>\n",
              "      <td>tie</td>\n",
              "      <td>0</td>\n",
              "      <td>Rajasthan Royals</td>\n",
              "      <td>0</td>\n",
              "      <td>0</td>\n",
              "      <td>JP Faulkner</td>\n",
              "      <td>Sheikh Zayed Stadium</td>\n",
              "      <td>Aleem Dar</td>\n",
              "      <td>AK Chaudhary</td>\n",
              "      <td>NaN</td>\n",
              "    </tr>\n",
              "  </tbody>\n",
              "</table>\n",
              "</div>"
            ],
            "text/plain": [
              "      id  season       city        date                        team1  \\\n",
              "457  458    2014  Abu Dhabi  2014-04-16        Kolkata Knight Riders   \n",
              "459  460    2014  Abu Dhabi  2014-04-18          Chennai Super Kings   \n",
              "460  461    2014  Abu Dhabi  2014-04-18          Sunrisers Hyderabad   \n",
              "464  465    2014  Abu Dhabi  2014-04-21          Chennai Super Kings   \n",
              "470  471    2014  Abu Dhabi  2014-04-26  Royal Challengers Bangalore   \n",
              "471  472    2014  Abu Dhabi  2014-04-26              Kings XI Punjab   \n",
              "475  476    2014  Abu Dhabi  2014-04-29             Rajasthan Royals   \n",
              "\n",
              "                     team2            toss_winner toss_decision  result  \\\n",
              "457         Mumbai Indians  Kolkata Knight Riders           bat  normal   \n",
              "459        Kings XI Punjab    Chennai Super Kings           bat  normal   \n",
              "460       Rajasthan Royals       Rajasthan Royals         field  normal   \n",
              "464       Delhi Daredevils    Chennai Super Kings           bat  normal   \n",
              "470       Rajasthan Royals       Rajasthan Royals         field  normal   \n",
              "471  Kolkata Knight Riders  Kolkata Knight Riders         field  normal   \n",
              "475  Kolkata Knight Riders       Rajasthan Royals           bat     tie   \n",
              "\n",
              "     dl_applied                 winner  win_by_runs  win_by_wickets  \\\n",
              "457           0  Kolkata Knight Riders           41               0   \n",
              "459           0        Kings XI Punjab            0               6   \n",
              "460           0       Rajasthan Royals            0               4   \n",
              "464           0    Chennai Super Kings           93               0   \n",
              "470           0       Rajasthan Royals            0               6   \n",
              "471           0        Kings XI Punjab           23               0   \n",
              "475           0       Rajasthan Royals            0               0   \n",
              "\n",
              "    player_of_match                 venue          umpire1         umpire2  \\\n",
              "457       JH Kallis  Sheikh Zayed Stadium        M Erasmus  RK Illingworth   \n",
              "459      GJ Maxwell  Sheikh Zayed Stadium   RK Illingworth   C Shamshuddin   \n",
              "460       AM Rahane  Sheikh Zayed Stadium        BF Bowden  RK Illingworth   \n",
              "464        SK Raina  Sheikh Zayed Stadium   RK Illingworth   C Shamshuddin   \n",
              "470        PV Tambe  Sheikh Zayed Stadium  HDPK Dharmasena   C Shamshuddin   \n",
              "471  Sandeep Sharma  Sheikh Zayed Stadium  HDPK Dharmasena  RK Illingworth   \n",
              "475     JP Faulkner  Sheikh Zayed Stadium        Aleem Dar    AK Chaudhary   \n",
              "\n",
              "     umpire3  \n",
              "457      NaN  \n",
              "459      NaN  \n",
              "460      NaN  \n",
              "464      NaN  \n",
              "470      NaN  \n",
              "471      NaN  \n",
              "475      NaN  "
            ]
          },
          "execution_count": 20,
          "metadata": {},
          "output_type": "execute_result"
        }
      ],
      "source": [
        "#df_matches.groupby(['city','winner']).count()\n",
        "df_matches.groupby(['city']).get_group('Abu Dhabi')"
      ]
    },
    {
      "cell_type": "code",
      "execution_count": null,
      "metadata": {
        "id": "7H-ZD1HhcurV",
        "outputId": "973f3714-8963-48b6-ad52-53fb7390e225"
      },
      "outputs": [
        {
          "data": {
            "text/html": [
              "<div>\n",
              "<style scoped>\n",
              "    .dataframe tbody tr th:only-of-type {\n",
              "        vertical-align: middle;\n",
              "    }\n",
              "\n",
              "    .dataframe tbody tr th {\n",
              "        vertical-align: top;\n",
              "    }\n",
              "\n",
              "    .dataframe thead th {\n",
              "        text-align: right;\n",
              "    }\n",
              "</style>\n",
              "<table border=\"1\" class=\"dataframe\">\n",
              "  <thead>\n",
              "    <tr style=\"text-align: right;\">\n",
              "      <th></th>\n",
              "      <th>min</th>\n",
              "      <th>max</th>\n",
              "    </tr>\n",
              "    <tr>\n",
              "      <th>city</th>\n",
              "      <th></th>\n",
              "      <th></th>\n",
              "    </tr>\n",
              "  </thead>\n",
              "  <tbody>\n",
              "    <tr>\n",
              "      <th>Abu Dhabi</th>\n",
              "      <td>0</td>\n",
              "      <td>6</td>\n",
              "    </tr>\n",
              "    <tr>\n",
              "      <th>Ahmedabad</th>\n",
              "      <td>0</td>\n",
              "      <td>9</td>\n",
              "    </tr>\n",
              "    <tr>\n",
              "      <th>Bangalore</th>\n",
              "      <td>0</td>\n",
              "      <td>10</td>\n",
              "    </tr>\n",
              "    <tr>\n",
              "      <th>Bloemfontein</th>\n",
              "      <td>0</td>\n",
              "      <td>6</td>\n",
              "    </tr>\n",
              "    <tr>\n",
              "      <th>Cape Town</th>\n",
              "      <td>0</td>\n",
              "      <td>10</td>\n",
              "    </tr>\n",
              "    <tr>\n",
              "      <th>Centurion</th>\n",
              "      <td>0</td>\n",
              "      <td>8</td>\n",
              "    </tr>\n",
              "    <tr>\n",
              "      <th>Chandigarh</th>\n",
              "      <td>0</td>\n",
              "      <td>10</td>\n",
              "    </tr>\n",
              "    <tr>\n",
              "      <th>Chennai</th>\n",
              "      <td>0</td>\n",
              "      <td>9</td>\n",
              "    </tr>\n",
              "    <tr>\n",
              "      <th>Cuttack</th>\n",
              "      <td>0</td>\n",
              "      <td>9</td>\n",
              "    </tr>\n",
              "    <tr>\n",
              "      <th>Delhi</th>\n",
              "      <td>0</td>\n",
              "      <td>10</td>\n",
              "    </tr>\n",
              "    <tr>\n",
              "      <th>Dharamsala</th>\n",
              "      <td>0</td>\n",
              "      <td>6</td>\n",
              "    </tr>\n",
              "    <tr>\n",
              "      <th>Durban</th>\n",
              "      <td>0</td>\n",
              "      <td>9</td>\n",
              "    </tr>\n",
              "    <tr>\n",
              "      <th>East London</th>\n",
              "      <td>0</td>\n",
              "      <td>7</td>\n",
              "    </tr>\n",
              "    <tr>\n",
              "      <th>Hyderabad</th>\n",
              "      <td>0</td>\n",
              "      <td>9</td>\n",
              "    </tr>\n",
              "    <tr>\n",
              "      <th>Indore</th>\n",
              "      <td>6</td>\n",
              "      <td>8</td>\n",
              "    </tr>\n",
              "    <tr>\n",
              "      <th>Jaipur</th>\n",
              "      <td>0</td>\n",
              "      <td>10</td>\n",
              "    </tr>\n",
              "    <tr>\n",
              "      <th>Johannesburg</th>\n",
              "      <td>0</td>\n",
              "      <td>9</td>\n",
              "    </tr>\n",
              "    <tr>\n",
              "      <th>Kanpur</th>\n",
              "      <td>2</td>\n",
              "      <td>8</td>\n",
              "    </tr>\n",
              "    <tr>\n",
              "      <th>Kimberley</th>\n",
              "      <td>0</td>\n",
              "      <td>7</td>\n",
              "    </tr>\n",
              "    <tr>\n",
              "      <th>Kochi</th>\n",
              "      <td>0</td>\n",
              "      <td>7</td>\n",
              "    </tr>\n",
              "    <tr>\n",
              "      <th>Kolkata</th>\n",
              "      <td>0</td>\n",
              "      <td>9</td>\n",
              "    </tr>\n",
              "    <tr>\n",
              "      <th>Mumbai</th>\n",
              "      <td>0</td>\n",
              "      <td>10</td>\n",
              "    </tr>\n",
              "    <tr>\n",
              "      <th>Nagpur</th>\n",
              "      <td>0</td>\n",
              "      <td>6</td>\n",
              "    </tr>\n",
              "    <tr>\n",
              "      <th>Port Elizabeth</th>\n",
              "      <td>0</td>\n",
              "      <td>7</td>\n",
              "    </tr>\n",
              "    <tr>\n",
              "      <th>Pune</th>\n",
              "      <td>0</td>\n",
              "      <td>9</td>\n",
              "    </tr>\n",
              "    <tr>\n",
              "      <th>Raipur</th>\n",
              "      <td>0</td>\n",
              "      <td>7</td>\n",
              "    </tr>\n",
              "    <tr>\n",
              "      <th>Rajkot</th>\n",
              "      <td>0</td>\n",
              "      <td>10</td>\n",
              "    </tr>\n",
              "    <tr>\n",
              "      <th>Ranchi</th>\n",
              "      <td>0</td>\n",
              "      <td>6</td>\n",
              "    </tr>\n",
              "    <tr>\n",
              "      <th>Sharjah</th>\n",
              "      <td>0</td>\n",
              "      <td>8</td>\n",
              "    </tr>\n",
              "    <tr>\n",
              "      <th>Visakhapatnam</th>\n",
              "      <td>0</td>\n",
              "      <td>7</td>\n",
              "    </tr>\n",
              "  </tbody>\n",
              "</table>\n",
              "</div>"
            ],
            "text/plain": [
              "                min  max\n",
              "city                    \n",
              "Abu Dhabi         0    6\n",
              "Ahmedabad         0    9\n",
              "Bangalore         0   10\n",
              "Bloemfontein      0    6\n",
              "Cape Town         0   10\n",
              "Centurion         0    8\n",
              "Chandigarh        0   10\n",
              "Chennai           0    9\n",
              "Cuttack           0    9\n",
              "Delhi             0   10\n",
              "Dharamsala        0    6\n",
              "Durban            0    9\n",
              "East London       0    7\n",
              "Hyderabad         0    9\n",
              "Indore            6    8\n",
              "Jaipur            0   10\n",
              "Johannesburg      0    9\n",
              "Kanpur            2    8\n",
              "Kimberley         0    7\n",
              "Kochi             0    7\n",
              "Kolkata           0    9\n",
              "Mumbai            0   10\n",
              "Nagpur            0    6\n",
              "Port Elizabeth    0    7\n",
              "Pune              0    9\n",
              "Raipur            0    7\n",
              "Rajkot            0   10\n",
              "Ranchi            0    6\n",
              "Sharjah           0    8\n",
              "Visakhapatnam     0    7"
            ]
          },
          "execution_count": 21,
          "metadata": {},
          "output_type": "execute_result"
        }
      ],
      "source": [
        "df_matches.groupby(['city']).agg([ 'min', 'max'])['win_by_wickets']"
      ]
    },
    {
      "cell_type": "code",
      "execution_count": null,
      "metadata": {
        "id": "UlVtBm2HcurV",
        "outputId": "c9501a05-0fa0-4ba4-8419-2f69dd8eec70"
      },
      "outputs": [
        {
          "data": {
            "text/html": [
              "<div>\n",
              "<style scoped>\n",
              "    .dataframe tbody tr th:only-of-type {\n",
              "        vertical-align: middle;\n",
              "    }\n",
              "\n",
              "    .dataframe tbody tr th {\n",
              "        vertical-align: top;\n",
              "    }\n",
              "\n",
              "    .dataframe thead th {\n",
              "        text-align: right;\n",
              "    }\n",
              "</style>\n",
              "<table border=\"1\" class=\"dataframe\">\n",
              "  <thead>\n",
              "    <tr style=\"text-align: right;\">\n",
              "      <th></th>\n",
              "      <th>id</th>\n",
              "      <th>season</th>\n",
              "      <th>city</th>\n",
              "      <th>date</th>\n",
              "      <th>team1</th>\n",
              "      <th>team2</th>\n",
              "      <th>toss_winner</th>\n",
              "      <th>toss_decision</th>\n",
              "      <th>result</th>\n",
              "      <th>dl_applied</th>\n",
              "      <th>winner</th>\n",
              "      <th>win_by_runs</th>\n",
              "      <th>win_by_wickets</th>\n",
              "      <th>player_of_match</th>\n",
              "      <th>venue</th>\n",
              "      <th>umpire1</th>\n",
              "      <th>umpire2</th>\n",
              "      <th>umpire3</th>\n",
              "    </tr>\n",
              "  </thead>\n",
              "  <tbody>\n",
              "    <tr>\n",
              "      <th>43</th>\n",
              "      <td>44</td>\n",
              "      <td>2017</td>\n",
              "      <td>Delhi</td>\n",
              "      <td>2017-05-06</td>\n",
              "      <td>Mumbai Indians</td>\n",
              "      <td>Delhi Daredevils</td>\n",
              "      <td>Delhi Daredevils</td>\n",
              "      <td>field</td>\n",
              "      <td>normal</td>\n",
              "      <td>0</td>\n",
              "      <td>Mumbai Indians</td>\n",
              "      <td>146</td>\n",
              "      <td>0</td>\n",
              "      <td>LMP Simmons</td>\n",
              "      <td>Feroz Shah Kotla</td>\n",
              "      <td>Nitin Menon</td>\n",
              "      <td>CK Nandan</td>\n",
              "      <td>NaN</td>\n",
              "    </tr>\n",
              "  </tbody>\n",
              "</table>\n",
              "</div>"
            ],
            "text/plain": [
              "    id  season   city        date           team1             team2  \\\n",
              "43  44    2017  Delhi  2017-05-06  Mumbai Indians  Delhi Daredevils   \n",
              "\n",
              "         toss_winner toss_decision  result  dl_applied          winner  \\\n",
              "43  Delhi Daredevils         field  normal           0  Mumbai Indians   \n",
              "\n",
              "    win_by_runs  win_by_wickets player_of_match             venue  \\\n",
              "43          146               0     LMP Simmons  Feroz Shah Kotla   \n",
              "\n",
              "        umpire1    umpire2  umpire3  \n",
              "43  Nitin Menon  CK Nandan      NaN  "
            ]
          },
          "execution_count": 22,
          "metadata": {},
          "output_type": "execute_result"
        }
      ],
      "source": [
        "df_matches.iloc[[df_matches['win_by_runs'].idxmax()]]\n",
        "#Mumbai Indians(MI) defeated Delhi Daredevils(DD) with the highest run difference\n"
      ]
    },
    {
      "cell_type": "code",
      "execution_count": null,
      "metadata": {
        "id": "rumaQ40PcurV",
        "outputId": "92daec02-056c-4233-9e78-34534fff7f2d"
      },
      "outputs": [
        {
          "data": {
            "text/html": [
              "<div>\n",
              "<style scoped>\n",
              "    .dataframe tbody tr th:only-of-type {\n",
              "        vertical-align: middle;\n",
              "    }\n",
              "\n",
              "    .dataframe tbody tr th {\n",
              "        vertical-align: top;\n",
              "    }\n",
              "\n",
              "    .dataframe thead th {\n",
              "        text-align: right;\n",
              "    }\n",
              "</style>\n",
              "<table border=\"1\" class=\"dataframe\">\n",
              "  <thead>\n",
              "    <tr style=\"text-align: right;\">\n",
              "      <th></th>\n",
              "      <th>id</th>\n",
              "      <th>season</th>\n",
              "      <th>city</th>\n",
              "      <th>date</th>\n",
              "      <th>team1</th>\n",
              "      <th>team2</th>\n",
              "      <th>toss_winner</th>\n",
              "      <th>toss_decision</th>\n",
              "      <th>result</th>\n",
              "      <th>dl_applied</th>\n",
              "      <th>winner</th>\n",
              "      <th>win_by_runs</th>\n",
              "      <th>win_by_wickets</th>\n",
              "      <th>player_of_match</th>\n",
              "      <th>venue</th>\n",
              "      <th>umpire1</th>\n",
              "      <th>umpire2</th>\n",
              "      <th>umpire3</th>\n",
              "    </tr>\n",
              "  </thead>\n",
              "  <tbody>\n",
              "    <tr>\n",
              "      <th>2</th>\n",
              "      <td>3</td>\n",
              "      <td>2017</td>\n",
              "      <td>Rajkot</td>\n",
              "      <td>2017-04-07</td>\n",
              "      <td>Gujarat Lions</td>\n",
              "      <td>Kolkata Knight Riders</td>\n",
              "      <td>Kolkata Knight Riders</td>\n",
              "      <td>field</td>\n",
              "      <td>normal</td>\n",
              "      <td>0</td>\n",
              "      <td>Kolkata Knight Riders</td>\n",
              "      <td>0</td>\n",
              "      <td>10</td>\n",
              "      <td>CA Lynn</td>\n",
              "      <td>Saurashtra Cricket Association Stadium</td>\n",
              "      <td>Nitin Menon</td>\n",
              "      <td>CK Nandan</td>\n",
              "      <td>NaN</td>\n",
              "    </tr>\n",
              "  </tbody>\n",
              "</table>\n",
              "</div>"
            ],
            "text/plain": [
              "   id  season    city        date          team1                  team2  \\\n",
              "2   3    2017  Rajkot  2017-04-07  Gujarat Lions  Kolkata Knight Riders   \n",
              "\n",
              "             toss_winner toss_decision  result  dl_applied  \\\n",
              "2  Kolkata Knight Riders         field  normal           0   \n",
              "\n",
              "                  winner  win_by_runs  win_by_wickets player_of_match  \\\n",
              "2  Kolkata Knight Riders            0              10         CA Lynn   \n",
              "\n",
              "                                    venue      umpire1    umpire2  umpire3  \n",
              "2  Saurashtra Cricket Association Stadium  Nitin Menon  CK Nandan      NaN  "
            ]
          },
          "execution_count": 23,
          "metadata": {},
          "output_type": "execute_result"
        }
      ],
      "source": [
        "df_matches.iloc[[df_matches['win_by_wickets'].idxmax()]]\n",
        "##Kolkata Knight Riders(KKR) defeated Gujrat Lions(GL) with the highest wins by wickets"
      ]
    },
    {
      "cell_type": "code",
      "execution_count": null,
      "metadata": {
        "id": "prxG_ALlcurV"
      },
      "outputs": [],
      "source": []
    },
    {
      "cell_type": "code",
      "execution_count": null,
      "metadata": {
        "id": "ea-PUobjcurV"
      },
      "outputs": [],
      "source": []
    }
  ],
  "metadata": {
    "kernelspec": {
      "display_name": "Python 3",
      "language": "python",
      "name": "python3"
    },
    "language_info": {
      "codemirror_mode": {
        "name": "ipython",
        "version": 3
      },
      "file_extension": ".py",
      "mimetype": "text/x-python",
      "name": "python",
      "nbconvert_exporter": "python",
      "pygments_lexer": "ipython3",
      "version": "3.7.3"
    },
    "colab": {
      "provenance": []
    }
  },
  "nbformat": 4,
  "nbformat_minor": 0
}